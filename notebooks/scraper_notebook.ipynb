{
 "cells": [
  {
   "cell_type": "code",
   "execution_count": 2,
   "id": "4af6a90f-4562-4809-a509-08c54477a603",
   "metadata": {},
   "outputs": [],
   "source": [
    "import requests\n",
    "from bs4 import BeautifulSoup\n"
   ]
  },
  {
   "cell_type": "code",
   "execution_count": 46,
   "id": "bbf92493-ae81-432a-a469-03976d00b2ae",
   "metadata": {},
   "outputs": [],
   "source": [
    "\n",
    "def get_price():\n",
    "    url = \"https://www.bergfreunde.nl/tenaya-indalo-klimschoenen/?aid=6e824d326b73d7b3ceccfc29515ebf76&pid=10004&bfgb=false\"\n",
    "    headers = {\n",
    "        \"User-Agent\": \"Mozilla/5.0\"\n",
    "    }\n",
    "    \n",
    "    response = requests.get(url, headers=headers)\n",
    "    soup = BeautifulSoup(response.text, 'html.parser')\n",
    "    \n",
    "    # Find the product title\n",
    "    title_tag = soup.find(\"span\", class_=\"product-title\")\n",
    "    title = title_tag.get_text(strip=True) if title_tag else \"Unknown Title\"\n",
    "    \n",
    "    # Find the price\n",
    "    price_tags = soup.find_all(\"span\", class_=\"js-fprice\")\n",
    "    \n",
    "    for i, tag in enumerate(price_tags):\n",
    "    \n",
    "        parent = tag.find_parent()\n",
    "        if 'js-price' in parent.get(\"class\"):\n",
    "            current_price = tag.text.strip()\n",
    "            print(f\"Final price {i + 1}: {current_price}\")\n",
    "    \n",
    "\n",
    "    return {\n",
    "        \"title\": title,\n",
    "        \"price\": current_price,\n",
    "        \"url\": url\n",
    "    }\n"
   ]
  },
  {
   "cell_type": "code",
   "execution_count": 47,
   "id": "8b36d228-44d8-475c-a75e-1c138879634c",
   "metadata": {},
   "outputs": [
    {
     "name": "stdout",
     "output_type": "stream",
     "text": [
      "Final price 2: 166,46\n"
     ]
    },
    {
     "data": {
      "text/plain": [
       "{'title': 'Indalo - Klimschoenen',\n",
       " 'price': '166,46',\n",
       " 'url': 'https://www.bergfreunde.nl/tenaya-indalo-klimschoenen/?aid=6e824d326b73d7b3ceccfc29515ebf76&pid=10004&bfgb=false'}"
      ]
     },
     "execution_count": 47,
     "metadata": {},
     "output_type": "execute_result"
    }
   ],
   "source": [
    "get_price()"
   ]
  },
  {
   "cell_type": "code",
   "execution_count": null,
   "id": "f1de69e8-0c1d-400b-ab5c-bf5373cbfdde",
   "metadata": {},
   "outputs": [],
   "source": []
  }
 ],
 "metadata": {
  "kernelspec": {
   "display_name": "Python 3 (ipykernel)",
   "language": "python",
   "name": "python3"
  },
  "language_info": {
   "codemirror_mode": {
    "name": "ipython",
    "version": 3
   },
   "file_extension": ".py",
   "mimetype": "text/x-python",
   "name": "python",
   "nbconvert_exporter": "python",
   "pygments_lexer": "ipython3",
   "version": "3.13.2"
  }
 },
 "nbformat": 4,
 "nbformat_minor": 5
}
