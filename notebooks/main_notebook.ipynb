{
 "cells": [
  {
   "cell_type": "code",
   "execution_count": 2,
   "id": "a396f16b-8bab-4a17-bb4e-a4343cf07533",
   "metadata": {},
   "outputs": [],
   "source": [
    "from fastapi import FastAPI\n",
    "from fastapi.middleware.cors import CORSMiddleware\n",
    "import json\n",
    "import os\n",
    "from datetime import datetime\n",
    "from scrapers.bergfreunde import get_price"
   ]
  },
  {
   "cell_type": "code",
   "execution_count": 3,
   "id": "1c7d79dc-61d4-41b2-ae8d-ac615932ddb5",
   "metadata": {},
   "outputs": [],
   "source": [
    "\n",
    "app = FastAPI()\n",
    "\n",
    "# Allow frontend (e.g., GitHub Pages) to fetch from this API\n",
    "app.add_middleware(\n",
    "    CORSMiddleware,\n",
    "    allow_origins=[\"*\"],\n",
    "    allow_methods=[\"*\"],\n",
    "    allow_headers=[\"*\"],\n",
    ")\n",
    "\n",
    "PRICES_FILE = \"prices.json\"\n",
    "\n",
    "# Load stored prices or initialize\n",
    "def load_prices():\n",
    "    if not os.path.exists(PRICES_FILE):\n",
    "        return {}\n",
    "    with open(PRICES_FILE, \"r\") as f:\n",
    "        return json.load(f)\n",
    "\n",
    "def save_prices(prices):\n",
    "    with open(PRICES_FILE, \"w\") as f:\n",
    "        json.dump(prices, f, indent=2)\n",
    "\n",
    "@app.get(\"/products\")\n",
    "def get_products():\n",
    "    current = get_price()\n",
    "    current_price = current[\"price\"]\n",
    "    now = datetime.now().isoformat()\n",
    "\n",
    "    prices = load_prices()\n",
    "    product_key = \"bergfreunde\"\n",
    "\n",
    "    previous = prices.get(product_key, {})\n",
    "    previous_price = previous.get(\"price\", current_price)\n",
    "\n",
    "    dropped = current_price < previous_price\n",
    "\n",
    "    # Save updated price\n",
    "    prices[product_key] = {\n",
    "        \"price\": current_price,\n",
    "        \"last_checked\": now\n",
    "    }\n",
    "    save_prices(prices)\n",
    "\n",
    "    return [{\n",
    "        \"name\": current[\"title\"],\n",
    "        \"url\": current[\"url\"],\n",
    "        \"price\": current_price,\n",
    "        \"previous_price\": previous_price,\n",
    "        \"dropped\": dropped,\n",
    "        \"last_checked\": now\n",
    "    }]\n"
   ]
  },
  {
   "cell_type": "code",
   "execution_count": 4,
   "id": "503d76a8-3868-4350-85f6-046c88fa99cc",
   "metadata": {},
   "outputs": [
    {
     "name": "stdout",
     "output_type": "stream",
     "text": [
      "Final price 2: 166,46\n"
     ]
    },
    {
     "data": {
      "text/plain": [
       "[{'name': 'Indalo - Klimschoenen',\n",
       "  'url': 'https://www.bergfreunde.nl/tenaya-indalo-klimschoenen/?aid=6e824d326b73d7b3ceccfc29515ebf76&pid=10004&bfgb=false',\n",
       "  'price': '166,46',\n",
       "  'previous_price': '166,46',\n",
       "  'dropped': False,\n",
       "  'last_checked': '2025-04-08T12:11:23.155508'}]"
      ]
     },
     "execution_count": 4,
     "metadata": {},
     "output_type": "execute_result"
    }
   ],
   "source": [
    "get_products()"
   ]
  },
  {
   "cell_type": "code",
   "execution_count": null,
   "id": "0f6363a0-5977-4ee9-8e06-0d6f6ba28fd5",
   "metadata": {},
   "outputs": [],
   "source": []
  }
 ],
 "metadata": {
  "kernelspec": {
   "display_name": "Python 3 (ipykernel)",
   "language": "python",
   "name": "python3"
  },
  "language_info": {
   "codemirror_mode": {
    "name": "ipython",
    "version": 3
   },
   "file_extension": ".py",
   "mimetype": "text/x-python",
   "name": "python",
   "nbconvert_exporter": "python",
   "pygments_lexer": "ipython3",
   "version": "3.13.2"
  }
 },
 "nbformat": 4,
 "nbformat_minor": 5
}
